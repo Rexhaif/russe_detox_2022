{
 "cells": [
  {
   "cell_type": "code",
   "execution_count": null,
   "metadata": {},
   "outputs": [],
   "source": [
    "import pandas as pd\n",
    "import numpy as np\n",
    "from tqdm import tqdm_notebook as tqdm\n",
    "import random\n",
    "\n",
    "import gensim\n",
    "from ufal.udpipe import Model, Pipeline"
   ]
  },
  {
   "cell_type": "markdown",
   "metadata": {},
   "source": [
    "Loading already predefined list of toxic words with their lemmatized versions"
   ]
  },
  {
   "cell_type": "code",
   "execution_count": null,
   "metadata": {},
   "outputs": [],
   "source": [
    "with open('toxic_vocab_extended.txt', 'r') as file:\n",
    "    toxic_words = file.readlines()\n",
    "toxic_words = [sentence.strip() for sentence in toxic_words]"
   ]
  },
  {
   "cell_type": "markdown",
   "metadata": {},
   "source": [
    "Also, we need udpipe model for tokenization."
   ]
  },
  {
   "cell_type": "code",
   "execution_count": null,
   "metadata": {},
   "outputs": [],
   "source": [
    "modelfile = 'udpipe_syntagrus.model'\n",
    "model_udpipe = Model.load(modelfile)\n",
    "process_pipeline = Pipeline(model_udpipe, 'tokenize', Pipeline.DEFAULT, Pipeline.DEFAULT, 'conllu')"
   ]
  },
  {
   "cell_type": "code",
   "execution_count": null,
   "metadata": {},
   "outputs": [],
   "source": [
    "def tokenize(text, tags=False, lemmas=False):\n",
    "    processed = process_pipeline.process(text)\n",
    "    content = [l for l in processed.split('\\n') if not l.startswith('#')]\n",
    "    tagged = [w.split('\\t') for w in content if w]\n",
    "    \n",
    "    tokens = []\n",
    "    for token in tagged:\n",
    "        if token[3] == 'PUNCT':\n",
    "            continue\n",
    "        \n",
    "        token_res = ''\n",
    "        if lemmas:\n",
    "            token_res = token[2]\n",
    "        else:\n",
    "            token_res = token[1]\n",
    "        if tags:\n",
    "            token_res += '_' + token[3]\n",
    "        tokens.append(token_res)\n",
    "        \n",
    "    return tokens"
   ]
  },
  {
   "cell_type": "markdown",
   "metadata": {},
   "source": [
    "Reading the input dataset"
   ]
  },
  {
   "cell_type": "code",
   "execution_count": null,
   "metadata": {},
   "outputs": [],
   "source": [
    "df = pd.read_csv('../../data/input/dev.tsv', sep='\\t')\n",
    "df.head()"
   ]
  },
  {
   "cell_type": "code",
   "execution_count": null,
   "metadata": {},
   "outputs": [],
   "source": [
    "toxic_inputs = df['toxic_comment'].tolist()"
   ]
  },
  {
   "cell_type": "markdown",
   "metadata": {},
   "source": [
    "Inference:"
   ]
  },
  {
   "cell_type": "code",
   "execution_count": null,
   "metadata": {},
   "outputs": [],
   "source": [
    "results = []\n",
    "\n",
    "for sample in tqdm(toxic_inputs):\n",
    "    try:\n",
    "        tokens_lemmas = tokenize(sample, lemmas=True)\n",
    "    except:\n",
    "        print(sample)\n",
    "        tokens_lemmas = sample.split(' ')\n",
    "    tokens = tokenize(sample, lemmas=False)\n",
    "    cleaned_sentence = [tokens[i] for i, word in enumerate(tokens_lemmas) if word not in toxic_words]\n",
    "        \n",
    "    results.append(' '.join(cleaned_sentence))"
   ]
  },
  {
   "cell_type": "markdown",
   "metadata": {},
   "source": [
    "Saving the results"
   ]
  },
  {
   "cell_type": "code",
   "execution_count": null,
   "metadata": {},
   "outputs": [],
   "source": [
    "with open('../../data/output/delete_dev.txt', 'w') as file:\n",
    "    file.writelines([sentence+'\\n' for sentence in results])"
   ]
  },
  {
   "cell_type": "code",
   "execution_count": null,
   "metadata": {},
   "outputs": [],
   "source": []
  }
 ],
 "metadata": {
  "kernelspec": {
   "display_name": "Python 3",
   "language": "python",
   "name": "python3"
  },
  "language_info": {
   "codemirror_mode": {
    "name": "ipython",
    "version": 3
   },
   "file_extension": ".py",
   "mimetype": "text/x-python",
   "name": "python",
   "nbconvert_exporter": "python",
   "pygments_lexer": "ipython3",
   "version": "3.7.4"
  }
 },
 "nbformat": 4,
 "nbformat_minor": 4
}
